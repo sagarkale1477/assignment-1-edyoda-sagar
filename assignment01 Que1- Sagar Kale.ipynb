{
 "cells": [
  {
   "cell_type": "code",
   "execution_count": 1,
   "id": "5a72dbcd",
   "metadata": {},
   "outputs": [
    {
     "name": "stdout",
     "output_type": "stream",
     "text": [
      "\n",
      "Please Enter the Range : 10\n",
      "1\n",
      "2\n",
      "3\n",
      "5\n",
      "8\n",
      "13\n",
      "21\n",
      "34\n"
     ]
    }
   ],
   "source": [
    "Number = int(input(\"\\nPlease Enter the Range : \"))\n",
    "# if we want fibonacci series between 0-50 then we must enter 10 in input \n",
    "a = 0\n",
    "b = 1\n",
    "for Num in range(0, Number):\n",
    "            if(Num <= 1):\n",
    "             Next_1 = Num\n",
    "            else:\n",
    "                Next_1 = a + b\n",
    "                a = b\n",
    "                b = Next_1\n",
    "                print(Next_1)\n",
    "    "
   ]
  },
  {
   "cell_type": "code",
   "execution_count": null,
   "id": "7797733d",
   "metadata": {},
   "outputs": [],
   "source": []
  }
 ],
 "metadata": {
  "kernelspec": {
   "display_name": "Python 3 (ipykernel)",
   "language": "python",
   "name": "python3"
  },
  "language_info": {
   "codemirror_mode": {
    "name": "ipython",
    "version": 3
   },
   "file_extension": ".py",
   "mimetype": "text/x-python",
   "name": "python",
   "nbconvert_exporter": "python",
   "pygments_lexer": "ipython3",
   "version": "3.10.4"
  }
 },
 "nbformat": 4,
 "nbformat_minor": 5
}
